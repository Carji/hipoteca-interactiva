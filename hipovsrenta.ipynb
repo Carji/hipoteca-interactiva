{
 "cells": [
  {
   "cell_type": "code",
   "execution_count": 86,
   "id": "excellent-recipe",
   "metadata": {},
   "outputs": [
    {
     "data": {
      "application/vnd.jupyter.widget-view+json": {
       "model_id": "3c776afbc6784827b35c1fa291601ecd",
       "version_major": 2,
       "version_minor": 0
      },
      "text/plain": [
       "interactive(children=(FloatSlider(value=475000.0, description='ValorVenta', max=900000.0, min=50000.0), FloatS…"
      ]
     },
     "metadata": {},
     "output_type": "display_data"
    }
   ],
   "source": [
    "%matplotlib inline\n",
    "from ipywidgets import interactive\n",
    "import matplotlib.pyplot as plt\n",
    "import numpy as np\n",
    "\n",
    "def f(ValorVenta, PagoInicial, AlquilerMensual, AñosHipoteca, InteresAnual):\n",
    "    Loan_Amount = ValorVenta*(1-PagoInicial/100)\n",
    "    Loan_Term = int(12*AñosHipoteca)\n",
    "    R = 1 +(InteresAnual)/(12*100)\n",
    "    X = Loan_Amount*(R**Loan_Term)*(1-R)/(1-R**Loan_Term)\n",
    "    Monthly_Interest = []\n",
    "    Monthly_Balance  = []\n",
    "    alquiler = []\n",
    "    ahorro= []\n",
    "    for i in range(1,Loan_Term+1):\n",
    "            Interest = Loan_Amount*(R-1)\n",
    "            Loan_Amount = Loan_Amount - (X-Interest)\n",
    "            mrmagoo = AlquilerMensual*float(i)\n",
    "            pasta=(X-AlquilerMensual)*float(i)\n",
    "            Monthly_Interest = np.append(Monthly_Interest,Interest)\n",
    "            Monthly_Balance = np.append(Monthly_Balance, Loan_Amount)\n",
    "            alquiler = np.append(alquiler,mrmagoo)\n",
    "            ahorro = np.append(ahorro,pasta)   \n",
    "                        \n",
    "            \n",
    "            \n",
    "    fig = plt.figure()\n",
    "    ax = plt.subplot(111)\n",
    "    fig.set_figwidth(15) \n",
    "    fig.set_figheight(8)\n",
    "    plt.grid() \n",
    "\n",
    "\n",
    "    plt.fill_between(range(1,Loan_Term+1),Monthly_Balance,label='prestamo restante')\n",
    "    plt.fill_between(range(1,Loan_Term+1),-(np.round(np.sum(Monthly_Interest))-alquiler),lw=2,label='coste de oportunidad en compra')\n",
    "    plt.fill_between(range(1,Loan_Term+1),ahorro,lw=2,label='Tasa de ahorro')\n",
    "    plt.fill_between(range(1,Loan_Term+1),ValorVenta - np.round(np.sum(Monthly_Interest))- ahorro,lw=2,label='Valor casa - ahorro perdido - interés')\n",
    "    plt.fill_between(range(1,Loan_Term+1),alquiler,lw=2,label='alquiler acumulado')\n",
    "\n",
    "\n",
    "    plt.title('Hipoteca 100tífica')\n",
    "    plt.xlabel('Mes')\n",
    "    plt.ylabel('Euros')\n",
    "    plt.legend(loc='upper center')\n",
    "    plt.show()    \n",
    "    print('El interés anual es del',InteresAnual,'%.') \n",
    "    print('El pago inicial es del', PagoInicial,'%.') \n",
    "    print('El alquiler mensual es', AlquilerMensual,'€.') \n",
    "    print('El valor de venta es', ValorVenta,'€.') \n",
    "    print('La hipoteca es a', AñosHipoteca,'años.') \n",
    "    print('***********************************') \n",
    "    print('Los intereses pagados son', np.round(np.sum(Monthly_Interest)),'€.')\n",
    "    \n",
    "    \n",
    "    fig2 = plt.figure()\n",
    "    ax = plt.subplot(222)\n",
    "    fig2.set_figwidth(15) \n",
    "    fig2.set_figheight(8)\n",
    "    plt.grid() \n",
    "    plt.fill_between(range(1,Loan_Term+1),Monthly_Interest - AlquilerMensual,lw=2,label='interes-alquiler mensual')\n",
    "    plt.title('Balance mensual')\n",
    "    plt.xlabel('Mes')\n",
    "    plt.ylabel('Euros')\n",
    "    plt.legend(loc='upper center')\n",
    "    plt.show() \n",
    "\n",
    " \n",
    "    \n",
    "    \n",
    "    \n",
    "    \n",
    "interactive_plot = interactive(f, InteresAnual=(0.0,10.0), AlquilerMensual=(0.0,1500.0), ValorVenta=(50000.0,900000.0), PagoInicial=(5.0,45.0),\n",
    "                               AñosHipoteca=(5.0,50.0))\n",
    "output = interactive_plot.children[-1]\n",
    "output.layout.height = '950px'\n",
    "interactive_plot"
   ]
  },
  {
   "cell_type": "code",
   "execution_count": null,
   "id": "interim-planning",
   "metadata": {},
   "outputs": [],
   "source": []
  }
 ],
 "metadata": {
  "kernelspec": {
   "display_name": "Python 3",
   "language": "python",
   "name": "python3"
  },
  "language_info": {
   "codemirror_mode": {
    "name": "ipython",
    "version": 3
   },
   "file_extension": ".py",
   "mimetype": "text/x-python",
   "name": "python",
   "nbconvert_exporter": "python",
   "pygments_lexer": "ipython3",
   "version": "3.8.8"
  }
 },
 "nbformat": 4,
 "nbformat_minor": 5
}
